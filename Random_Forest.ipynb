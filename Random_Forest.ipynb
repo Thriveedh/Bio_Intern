{
 "cells": [
  {
   "cell_type": "code",
   "execution_count": 1,
   "id": "1a169c28",
   "metadata": {},
   "outputs": [
    {
     "data": {
      "text/html": [
       "<div>\n",
       "<style scoped>\n",
       "    .dataframe tbody tr th:only-of-type {\n",
       "        vertical-align: middle;\n",
       "    }\n",
       "\n",
       "    .dataframe tbody tr th {\n",
       "        vertical-align: top;\n",
       "    }\n",
       "\n",
       "    .dataframe thead th {\n",
       "        text-align: right;\n",
       "    }\n",
       "</style>\n",
       "<table border=\"1\" class=\"dataframe\">\n",
       "  <thead>\n",
       "    <tr style=\"text-align: right;\">\n",
       "      <th></th>\n",
       "      <th>PlantName</th>\n",
       "      <th>part</th>\n",
       "      <th>Family</th>\n",
       "      <th>Extraction Solvent</th>\n",
       "      <th>Particle size</th>\n",
       "      <th>Zeta potential</th>\n",
       "      <th>Normal  cells (N)/cancer cells ? C?</th>\n",
       "      <th>Human(H)/Animal(A) cells</th>\n",
       "      <th>Cell  Lines</th>\n",
       "      <th>Cell viability Assay</th>\n",
       "      <th>Exposure Dose</th>\n",
       "      <th>% of cell viability</th>\n",
       "      <th>Exposure time</th>\n",
       "    </tr>\n",
       "  </thead>\n",
       "  <tbody>\n",
       "    <tr>\n",
       "      <th>0</th>\n",
       "      <td>Alcea</td>\n",
       "      <td>leaf</td>\n",
       "      <td>Malvaceae</td>\n",
       "      <td>aqueous</td>\n",
       "      <td>3</td>\n",
       "      <td>-17.8</td>\n",
       "      <td>C</td>\n",
       "      <td>H</td>\n",
       "      <td>4T1</td>\n",
       "      <td>MTT</td>\n",
       "      <td>20.0</td>\n",
       "      <td>66.9</td>\n",
       "      <td>12</td>\n",
       "    </tr>\n",
       "    <tr>\n",
       "      <th>1</th>\n",
       "      <td>Alcea</td>\n",
       "      <td>leaf</td>\n",
       "      <td>Malvaceae</td>\n",
       "      <td>aqueous</td>\n",
       "      <td>3</td>\n",
       "      <td>-17.8</td>\n",
       "      <td>C</td>\n",
       "      <td>H</td>\n",
       "      <td>4T1</td>\n",
       "      <td>MTT</td>\n",
       "      <td>40.0</td>\n",
       "      <td>39.5</td>\n",
       "      <td>12</td>\n",
       "    </tr>\n",
       "    <tr>\n",
       "      <th>2</th>\n",
       "      <td>Alcea</td>\n",
       "      <td>leaf</td>\n",
       "      <td>Malvaceae</td>\n",
       "      <td>aqueous</td>\n",
       "      <td>3</td>\n",
       "      <td>-17.8</td>\n",
       "      <td>C</td>\n",
       "      <td>H</td>\n",
       "      <td>4T1</td>\n",
       "      <td>MTT</td>\n",
       "      <td>60.0</td>\n",
       "      <td>16.4</td>\n",
       "      <td>12</td>\n",
       "    </tr>\n",
       "  </tbody>\n",
       "</table>\n",
       "</div>"
      ],
      "text/plain": [
       "  PlantName  part     Family Extraction Solvent Particle size Zeta potential  \\\n",
       "0     Alcea  leaf  Malvaceae            aqueous             3          -17.8   \n",
       "1     Alcea  leaf  Malvaceae            aqueous             3          -17.8   \n",
       "2     Alcea  leaf  Malvaceae            aqueous             3          -17.8   \n",
       "\n",
       "  Normal  cells (N)/cancer cells ? C? Human(H)/Animal(A) cells Cell  Lines  \\\n",
       "0                                   C                        H        4T1    \n",
       "1                                   C                        H        4T1    \n",
       "2                                   C                        H        4T1    \n",
       "\n",
       "  Cell viability Assay  Exposure Dose  % of cell viability  Exposure time  \n",
       "0                  MTT           20.0                 66.9             12  \n",
       "1                  MTT           40.0                 39.5             12  \n",
       "2                  MTT           60.0                 16.4             12  "
      ]
     },
     "execution_count": 1,
     "metadata": {},
     "output_type": "execute_result"
    }
   ],
   "source": [
    "import numpy as np\n",
    "import pandas as pd\n",
    "import seaborn as sns\n",
    "import matplotlib.pyplot as plt\n",
    "df = pd.read_csv('carbon_dots.csv',encoding='latin1')\n",
    "df.head(3)"
   ]
  },
  {
   "cell_type": "code",
   "execution_count": 2,
   "id": "d21f6867",
   "metadata": {},
   "outputs": [
    {
     "data": {
      "text/html": [
       "<div>\n",
       "<style scoped>\n",
       "    .dataframe tbody tr th:only-of-type {\n",
       "        vertical-align: middle;\n",
       "    }\n",
       "\n",
       "    .dataframe tbody tr th {\n",
       "        vertical-align: top;\n",
       "    }\n",
       "\n",
       "    .dataframe thead th {\n",
       "        text-align: right;\n",
       "    }\n",
       "</style>\n",
       "<table border=\"1\" class=\"dataframe\">\n",
       "  <thead>\n",
       "    <tr style=\"text-align: right;\">\n",
       "      <th></th>\n",
       "      <th>PlantName</th>\n",
       "      <th>part</th>\n",
       "      <th>Family</th>\n",
       "      <th>Extraction Solvent</th>\n",
       "      <th>Particle size</th>\n",
       "      <th>Zeta potential</th>\n",
       "      <th>CellType</th>\n",
       "      <th>Species</th>\n",
       "      <th>Cell  Lines</th>\n",
       "      <th>Cell viability Assay</th>\n",
       "      <th>Exposure Dose</th>\n",
       "      <th>% of cell viability</th>\n",
       "      <th>Exposure time</th>\n",
       "    </tr>\n",
       "  </thead>\n",
       "  <tbody>\n",
       "    <tr>\n",
       "      <th>0</th>\n",
       "      <td>Alcea</td>\n",
       "      <td>leaf</td>\n",
       "      <td>Malvaceae</td>\n",
       "      <td>aqueous</td>\n",
       "      <td>3</td>\n",
       "      <td>-17.8</td>\n",
       "      <td>C</td>\n",
       "      <td>H</td>\n",
       "      <td>4T1</td>\n",
       "      <td>MTT</td>\n",
       "      <td>20.0</td>\n",
       "      <td>66.9</td>\n",
       "      <td>12</td>\n",
       "    </tr>\n",
       "    <tr>\n",
       "      <th>1</th>\n",
       "      <td>Alcea</td>\n",
       "      <td>leaf</td>\n",
       "      <td>Malvaceae</td>\n",
       "      <td>aqueous</td>\n",
       "      <td>3</td>\n",
       "      <td>-17.8</td>\n",
       "      <td>C</td>\n",
       "      <td>H</td>\n",
       "      <td>4T1</td>\n",
       "      <td>MTT</td>\n",
       "      <td>40.0</td>\n",
       "      <td>39.5</td>\n",
       "      <td>12</td>\n",
       "    </tr>\n",
       "    <tr>\n",
       "      <th>2</th>\n",
       "      <td>Alcea</td>\n",
       "      <td>leaf</td>\n",
       "      <td>Malvaceae</td>\n",
       "      <td>aqueous</td>\n",
       "      <td>3</td>\n",
       "      <td>-17.8</td>\n",
       "      <td>C</td>\n",
       "      <td>H</td>\n",
       "      <td>4T1</td>\n",
       "      <td>MTT</td>\n",
       "      <td>60.0</td>\n",
       "      <td>16.4</td>\n",
       "      <td>12</td>\n",
       "    </tr>\n",
       "  </tbody>\n",
       "</table>\n",
       "</div>"
      ],
      "text/plain": [
       "  PlantName  part     Family Extraction Solvent Particle size Zeta potential  \\\n",
       "0     Alcea  leaf  Malvaceae            aqueous             3          -17.8   \n",
       "1     Alcea  leaf  Malvaceae            aqueous             3          -17.8   \n",
       "2     Alcea  leaf  Malvaceae            aqueous             3          -17.8   \n",
       "\n",
       "  CellType Species Cell  Lines Cell viability Assay  Exposure Dose  \\\n",
       "0        C       H        4T1                   MTT           20.0   \n",
       "1        C       H        4T1                   MTT           40.0   \n",
       "2        C       H        4T1                   MTT           60.0   \n",
       "\n",
       "   % of cell viability  Exposure time  \n",
       "0                 66.9             12  \n",
       "1                 39.5             12  \n",
       "2                 16.4             12  "
      ]
     },
     "execution_count": 2,
     "metadata": {},
     "output_type": "execute_result"
    }
   ],
   "source": [
    "df.rename(columns={\n",
    "    'Normal  cells (N)/cancer cells ? C?': 'CellType',\n",
    "    'Human(H)/Animal(A) cells': 'Species'\n",
    "}, inplace=True)\n",
    "df.head(3)"
   ]
  },
  {
   "cell_type": "code",
   "execution_count": 3,
   "id": "9ec1f584",
   "metadata": {},
   "outputs": [
    {
     "name": "stdout",
     "output_type": "stream",
     "text": [
      "<class 'pandas.core.frame.DataFrame'>\n",
      "RangeIndex: 207 entries, 0 to 206\n",
      "Data columns (total 13 columns):\n",
      " #   Column                Non-Null Count  Dtype  \n",
      "---  ------                --------------  -----  \n",
      " 0   PlantName             207 non-null    object \n",
      " 1   part                  121 non-null    object \n",
      " 2   Family                207 non-null    object \n",
      " 3   Extraction Solvent    207 non-null    object \n",
      " 4   Particle size         207 non-null    float64\n",
      " 5   Zeta potential        207 non-null    float64\n",
      " 6   CellType              207 non-null    object \n",
      " 7   Species               207 non-null    object \n",
      " 8   Cell  Lines           207 non-null    object \n",
      " 9   Cell viability Assay  207 non-null    object \n",
      " 10  Exposure Dose         207 non-null    float64\n",
      " 11  % of cell viability   207 non-null    float64\n",
      " 12  Exposure time         207 non-null    int64  \n",
      "dtypes: float64(4), int64(1), object(8)\n",
      "memory usage: 21.2+ KB\n"
     ]
    }
   ],
   "source": [
    "from sklearn.linear_model import LinearRegression\n",
    "df['Particle size'] = df['Particle size'].astype(str).str.replace('nm', '', regex=False).str.strip()\n",
    "df['Particle size'] = pd.to_numeric(df['Particle size'], errors='coerce')\n",
    "df['Zeta potential'] = df['Zeta potential'].astype(str).str.replace('mV', '', regex=False).str.strip()\n",
    "df['Zeta potential'] = pd.to_numeric(df['Zeta potential'], errors='coerce')\n",
    "\n",
    "train_data = df[df['Zeta potential'].notnull()]\n",
    "missing_data = df[df['Zeta potential'].isnull()]\n",
    "\n",
    "features = ['Particle size', 'Exposure Dose', 'Exposure time']\n",
    "\n",
    "reg = LinearRegression()\n",
    "reg.fit(train_data[features], train_data['Zeta potential'])\n",
    "\n",
    "predicted = reg.predict(missing_data[features])\n",
    "df.loc[df['Zeta potential'].isnull(), 'Zeta potential'] = predicted\n",
    "\n",
    "df.info()"
   ]
  },
  {
   "cell_type": "code",
   "execution_count": 4,
   "id": "27558e47",
   "metadata": {},
   "outputs": [
    {
     "data": {
      "text/html": [
       "<div>\n",
       "<style scoped>\n",
       "    .dataframe tbody tr th:only-of-type {\n",
       "        vertical-align: middle;\n",
       "    }\n",
       "\n",
       "    .dataframe tbody tr th {\n",
       "        vertical-align: top;\n",
       "    }\n",
       "\n",
       "    .dataframe thead th {\n",
       "        text-align: right;\n",
       "    }\n",
       "</style>\n",
       "<table border=\"1\" class=\"dataframe\">\n",
       "  <thead>\n",
       "    <tr style=\"text-align: right;\">\n",
       "      <th></th>\n",
       "      <th>PlantName</th>\n",
       "      <th>part</th>\n",
       "      <th>Family</th>\n",
       "      <th>Extraction Solvent</th>\n",
       "      <th>Particle size</th>\n",
       "      <th>Zeta potential</th>\n",
       "      <th>CellType</th>\n",
       "      <th>Species</th>\n",
       "      <th>Cell  Lines</th>\n",
       "      <th>Cell viability Assay</th>\n",
       "      <th>Exposure Dose</th>\n",
       "      <th>% of cell viability</th>\n",
       "      <th>Exposure time</th>\n",
       "      <th>Viability_Class</th>\n",
       "    </tr>\n",
       "  </thead>\n",
       "  <tbody>\n",
       "    <tr>\n",
       "      <th>0</th>\n",
       "      <td>Alcea</td>\n",
       "      <td>leaf</td>\n",
       "      <td>Malvaceae</td>\n",
       "      <td>aqueous</td>\n",
       "      <td>3.0</td>\n",
       "      <td>-17.8</td>\n",
       "      <td>C</td>\n",
       "      <td>H</td>\n",
       "      <td>4T1</td>\n",
       "      <td>MTT</td>\n",
       "      <td>20.0</td>\n",
       "      <td>66.9</td>\n",
       "      <td>12</td>\n",
       "      <td>1</td>\n",
       "    </tr>\n",
       "    <tr>\n",
       "      <th>1</th>\n",
       "      <td>Alcea</td>\n",
       "      <td>leaf</td>\n",
       "      <td>Malvaceae</td>\n",
       "      <td>aqueous</td>\n",
       "      <td>3.0</td>\n",
       "      <td>-17.8</td>\n",
       "      <td>C</td>\n",
       "      <td>H</td>\n",
       "      <td>4T1</td>\n",
       "      <td>MTT</td>\n",
       "      <td>40.0</td>\n",
       "      <td>39.5</td>\n",
       "      <td>12</td>\n",
       "      <td>0</td>\n",
       "    </tr>\n",
       "    <tr>\n",
       "      <th>2</th>\n",
       "      <td>Alcea</td>\n",
       "      <td>leaf</td>\n",
       "      <td>Malvaceae</td>\n",
       "      <td>aqueous</td>\n",
       "      <td>3.0</td>\n",
       "      <td>-17.8</td>\n",
       "      <td>C</td>\n",
       "      <td>H</td>\n",
       "      <td>4T1</td>\n",
       "      <td>MTT</td>\n",
       "      <td>60.0</td>\n",
       "      <td>16.4</td>\n",
       "      <td>12</td>\n",
       "      <td>0</td>\n",
       "    </tr>\n",
       "  </tbody>\n",
       "</table>\n",
       "</div>"
      ],
      "text/plain": [
       "  PlantName  part     Family Extraction Solvent  Particle size  \\\n",
       "0     Alcea  leaf  Malvaceae            aqueous            3.0   \n",
       "1     Alcea  leaf  Malvaceae            aqueous            3.0   \n",
       "2     Alcea  leaf  Malvaceae            aqueous            3.0   \n",
       "\n",
       "   Zeta potential CellType Species Cell  Lines Cell viability Assay  \\\n",
       "0           -17.8        C       H        4T1                   MTT   \n",
       "1           -17.8        C       H        4T1                   MTT   \n",
       "2           -17.8        C       H        4T1                   MTT   \n",
       "\n",
       "   Exposure Dose  % of cell viability  Exposure time  Viability_Class  \n",
       "0           20.0                 66.9             12                1  \n",
       "1           40.0                 39.5             12                0  \n",
       "2           60.0                 16.4             12                0  "
      ]
     },
     "execution_count": 4,
     "metadata": {},
     "output_type": "execute_result"
    }
   ],
   "source": [
    "numerical_cols = ['Particle size', 'Exposure Dose', 'Zeta potential', 'Exposure time']\n",
    "df['Viability_Class'] = df['% of cell viability'].apply(lambda x: 1 if x > 50 else 0)\n",
    "df.head(3)"
   ]
  },
  {
   "cell_type": "code",
   "execution_count": 5,
   "id": "615bff3b",
   "metadata": {},
   "outputs": [],
   "source": [
    "features = ['Particle size', 'Extraction Solvent', 'Exposure Dose', 'Zeta potential',\n",
    "            'CellType', 'Species', 'Exposure time']\n",
    "target = 'Viability_Class'\n",
    "\n",
    "X = df[features]\n",
    "y = df[target]"
   ]
  },
  {
   "cell_type": "code",
   "execution_count": 6,
   "id": "e4993c50",
   "metadata": {},
   "outputs": [
    {
     "data": {
      "text/html": [
       "<div>\n",
       "<style scoped>\n",
       "    .dataframe tbody tr th:only-of-type {\n",
       "        vertical-align: middle;\n",
       "    }\n",
       "\n",
       "    .dataframe tbody tr th {\n",
       "        vertical-align: top;\n",
       "    }\n",
       "\n",
       "    .dataframe thead th {\n",
       "        text-align: right;\n",
       "    }\n",
       "</style>\n",
       "<table border=\"1\" class=\"dataframe\">\n",
       "  <thead>\n",
       "    <tr style=\"text-align: right;\">\n",
       "      <th></th>\n",
       "      <th>Extraction Solvent_aqueous</th>\n",
       "      <th>Extraction Solvent_organic</th>\n",
       "      <th>CellType_N</th>\n",
       "      <th>Species_H</th>\n",
       "      <th>Particle size</th>\n",
       "      <th>Exposure Dose</th>\n",
       "      <th>Zeta potential</th>\n",
       "      <th>Exposure time</th>\n",
       "    </tr>\n",
       "  </thead>\n",
       "  <tbody>\n",
       "    <tr>\n",
       "      <th>0</th>\n",
       "      <td>1.0</td>\n",
       "      <td>0.0</td>\n",
       "      <td>0.0</td>\n",
       "      <td>1.0</td>\n",
       "      <td>3.0</td>\n",
       "      <td>20.0</td>\n",
       "      <td>-17.8</td>\n",
       "      <td>12</td>\n",
       "    </tr>\n",
       "    <tr>\n",
       "      <th>1</th>\n",
       "      <td>1.0</td>\n",
       "      <td>0.0</td>\n",
       "      <td>0.0</td>\n",
       "      <td>1.0</td>\n",
       "      <td>3.0</td>\n",
       "      <td>40.0</td>\n",
       "      <td>-17.8</td>\n",
       "      <td>12</td>\n",
       "    </tr>\n",
       "    <tr>\n",
       "      <th>2</th>\n",
       "      <td>1.0</td>\n",
       "      <td>0.0</td>\n",
       "      <td>0.0</td>\n",
       "      <td>1.0</td>\n",
       "      <td>3.0</td>\n",
       "      <td>60.0</td>\n",
       "      <td>-17.8</td>\n",
       "      <td>12</td>\n",
       "    </tr>\n",
       "  </tbody>\n",
       "</table>\n",
       "</div>"
      ],
      "text/plain": [
       "   Extraction Solvent_aqueous  Extraction Solvent_organic  CellType_N  \\\n",
       "0                         1.0                         0.0         0.0   \n",
       "1                         1.0                         0.0         0.0   \n",
       "2                         1.0                         0.0         0.0   \n",
       "\n",
       "   Species_H  Particle size  Exposure Dose  Zeta potential  Exposure time  \n",
       "0        1.0            3.0           20.0           -17.8             12  \n",
       "1        1.0            3.0           40.0           -17.8             12  \n",
       "2        1.0            3.0           60.0           -17.8             12  "
      ]
     },
     "execution_count": 6,
     "metadata": {},
     "output_type": "execute_result"
    }
   ],
   "source": [
    "from sklearn.preprocessing import OneHotEncoder\n",
    "categorical_cols = ['Extraction Solvent', 'CellType', 'Species']\n",
    "encoder = OneHotEncoder(drop='first', sparse_output=False)\n",
    "X_encoded = encoder.fit_transform(X[categorical_cols])\n",
    "X_final = pd.concat([\n",
    "    pd.DataFrame(X_encoded, columns=encoder.get_feature_names_out(categorical_cols), index=X.index),\n",
    "    X.drop(columns=categorical_cols).reset_index(drop=True)\n",
    "], axis=1)\n",
    "X_final.head(3)"
   ]
  },
  {
   "cell_type": "code",
   "execution_count": 7,
   "id": "6e833a9d",
   "metadata": {},
   "outputs": [],
   "source": [
    "from sklearn.model_selection import train_test_split\n",
    "X_train, X_test, y_train, y_test = train_test_split(X_final, y, test_size=0.2, random_state=42)"
   ]
  },
  {
   "cell_type": "code",
   "execution_count": 26,
   "id": "95f04f2b",
   "metadata": {},
   "outputs": [],
   "source": [
    "from sklearn.ensemble import RandomForestClassifier\n",
    "rf = RandomForestClassifier(min_samples_split=10,random_state=42)\n",
    "rf.fit(X_train, y_train)\n",
    "y_pred = rf.predict(X_test)\n",
    "y_proba = rf.predict_proba(X_test)[:, 1]"
   ]
  },
  {
   "cell_type": "code",
   "execution_count": 27,
   "id": "7557bddd",
   "metadata": {},
   "outputs": [
    {
     "name": "stdout",
     "output_type": "stream",
     "text": [
      "              precision    recall  f1-score   support\n",
      "\n",
      "           0       0.60      0.86      0.71         7\n",
      "           1       0.97      0.89      0.93        35\n",
      "\n",
      "    accuracy                           0.88        42\n",
      "   macro avg       0.78      0.87      0.82        42\n",
      "weighted avg       0.91      0.88      0.89        42\n",
      "\n"
     ]
    }
   ],
   "source": [
    "from sklearn.metrics import accuracy_score, classification_report,precision_score, recall_score, f1_score, roc_auc_score\n",
    "print(classification_report(y_test, y_pred))"
   ]
  },
  {
   "cell_type": "code",
   "execution_count": 28,
   "id": "7822bc80",
   "metadata": {},
   "outputs": [
    {
     "name": "stdout",
     "output_type": "stream",
     "text": [
      "Accuracy: 0.8809523809523809\n",
      "Precision: 0.96875\n",
      "Recall: 0.8857142857142857\n",
      "F1 Score: 0.9253731343283582\n",
      "AUC Score: 0.8632653061224489\n"
     ]
    }
   ],
   "source": [
    "print(\"Accuracy:\", accuracy_score(y_test, y_pred))\n",
    "print(\"Precision:\", precision_score(y_test, y_pred))\n",
    "print(\"Recall:\", recall_score(y_test, y_pred))\n",
    "print(\"F1 Score:\", f1_score(y_test, y_pred))\n",
    "print(\"AUC Score:\", roc_auc_score(y_test, y_proba))"
   ]
  },
  {
   "cell_type": "code",
   "execution_count": 30,
   "id": "27162fc6",
   "metadata": {},
   "outputs": [
    {
     "name": "stdout",
     "output_type": "stream",
     "text": [
      "min_samples_split: 2, Accuracy: 0.8095\n",
      "min_samples_split: 3, Accuracy: 0.8095\n",
      "min_samples_split: 4, Accuracy: 0.8810\n",
      "min_samples_split: 5, Accuracy: 0.8571\n",
      "min_samples_split: 6, Accuracy: 0.8810\n",
      "min_samples_split: 7, Accuracy: 0.8810\n",
      "min_samples_split: 8, Accuracy: 0.8810\n",
      "min_samples_split: 9, Accuracy: 0.8810\n",
      "min_samples_split: 10, Accuracy: 0.8810\n",
      "min_samples_split: 11, Accuracy: 0.8810\n",
      "min_samples_split: 12, Accuracy: 0.8571\n",
      "min_samples_split: 13, Accuracy: 0.8571\n",
      "min_samples_split: 14, Accuracy: 0.8571\n",
      "min_samples_split: 15, Accuracy: 0.8571\n",
      "min_samples_split: 16, Accuracy: 0.8571\n",
      "min_samples_split: 17, Accuracy: 0.8571\n",
      "min_samples_split: 18, Accuracy: 0.8571\n",
      "min_samples_split: 19, Accuracy: 0.8571\n",
      "min_samples_split: 20, Accuracy: 0.8571\n"
     ]
    }
   ],
   "source": [
    "min_samples_splits = list(range(2, 21))\n",
    "accuracies = []\n",
    "\n",
    "for min_split in min_samples_splits:\n",
    "    clf = RandomForestClassifier(min_samples_split=min_split, random_state=42)\n",
    "    clf.fit(X_train, y_train)\n",
    "    y_pred = clf.predict(X_test)\n",
    "    acc = accuracy_score(y_test, y_pred)\n",
    "    accuracies.append(acc)\n",
    "    print(f\"min_samples_split: {min_split}, Accuracy: {acc:.4f}\")"
   ]
  },
  {
   "cell_type": "code",
   "execution_count": 29,
   "id": "1133fc61",
   "metadata": {},
   "outputs": [
    {
     "name": "stdout",
     "output_type": "stream",
     "text": [
      "Depth: 1, Accuracy: 0.8333\n",
      "Depth: 2, Accuracy: 0.8333\n",
      "Depth: 3, Accuracy: 0.8333\n",
      "Depth: 4, Accuracy: 0.8571\n",
      "Depth: 5, Accuracy: 0.8571\n",
      "Depth: 6, Accuracy: 0.8810\n",
      "Depth: 7, Accuracy: 0.8810\n",
      "Depth: 8, Accuracy: 0.8810\n",
      "Depth: 9, Accuracy: 0.8810\n",
      "Depth: 10, Accuracy: 0.8810\n",
      "Depth: 11, Accuracy: 0.8810\n",
      "Depth: 12, Accuracy: 0.8810\n",
      "Depth: 13, Accuracy: 0.8810\n",
      "Depth: 14, Accuracy: 0.8810\n",
      "Depth: 15, Accuracy: 0.8810\n",
      "Depth: 16, Accuracy: 0.8810\n",
      "Depth: 17, Accuracy: 0.8810\n",
      "Depth: 18, Accuracy: 0.8810\n",
      "Depth: 19, Accuracy: 0.8810\n",
      "Depth: 20, Accuracy: 0.8810\n"
     ]
    },
    {
     "data": {
      "image/png": "[encoded data removed]",
      "text/plain": [
       "<Figure size 800x500 with 1 Axes>"
      ]
     },
     "metadata": {},
     "output_type": "display_data"
    }
   ],
   "source": [
    "depths = list(range(1, 21)) \n",
    "accuracies = []\n",
    "\n",
    "for depth in depths:\n",
    "    clf = RandomForestClassifier(min_samples_split=10,max_depth=depth, random_state=42)\n",
    "    clf.fit(X_train, y_train)\n",
    "    y_pred = clf.predict(X_test)\n",
    "    acc = accuracy_score(y_test, y_pred)\n",
    "    accuracies.append(acc)\n",
    "    print(f\"Depth: {depth}, Accuracy: {acc:.4f}\")\n",
    "\n",
    "plt.figure(figsize=(8,5))\n",
    "plt.plot(depths, accuracies, marker='o')\n",
    "plt.title('Decision Tree Depth vs Accuracy')\n",
    "plt.xlabel('Max Depth')\n",
    "plt.ylabel('Accuracy')\n",
    "plt.xticks(depths)\n",
    "plt.grid(True)\n",
    "plt.show()"
   ]
  },
  {
   "cell_type": "code",
   "execution_count": 33,
   "id": "92b3e651",
   "metadata": {},
   "outputs": [
    {
     "data": {
      "image/png": "[encoded data removed]",
      "text/plain": [
       "<Figure size 1000x600 with 1 Axes>"
      ]
     },
     "metadata": {},
     "output_type": "display_data"
    }
   ],
   "source": [
    "import numpy as np\n",
    "importances = rf.feature_importances_\n",
    "indices = np.argsort(importances)[::-1]\n",
    "\n",
    "feature_names = np.array(X_final.columns)\n",
    "\n",
    "plt.figure(figsize=(10, 6))\n",
    "sns.barplot(x=importances[indices], y=feature_names[indices])\n",
    "plt.title(\"Feature Importances - Random Forest\")\n",
    "plt.xlabel(\"Importance\")\n",
    "plt.ylabel(\"Feature\")\n",
    "plt.tight_layout()\n",
    "plt.show()"
   ]
  },
  {
   "cell_type": "code",
   "execution_count": 34,
   "id": "e4cf9e9b",
   "metadata": {},
   "outputs": [
    {
     "name": "stdout",
     "output_type": "stream",
     "text": [
      "Fold 1 Accuracy: 0.6190\n",
      "Fold 2 Accuracy: 0.8095\n",
      "Fold 3 Accuracy: 0.8095\n",
      "Fold 4 Accuracy: 0.7619\n",
      "Fold 5 Accuracy: 0.8571\n",
      "Fold 6 Accuracy: 0.9524\n",
      "Fold 7 Accuracy: 0.8571\n",
      "Fold 8 Accuracy: 0.6000\n",
      "Fold 9 Accuracy: 0.8500\n",
      "Fold 10 Accuracy: 0.8000\n",
      "\n",
      "Average Accuracy: 0.7917\n",
      "Standard Deviation: 0.1029\n"
     ]
    }
   ],
   "source": [
    "from sklearn.model_selection import cross_val_score\n",
    "clf = RandomForestClassifier(min_samples_split=10,random_state=42)\n",
    "\n",
    "cv_scores = cross_val_score(clf, X_final, y, cv=10, scoring='accuracy')\n",
    "for i, score in enumerate(cv_scores, 1):\n",
    "    print(f\"Fold {i} Accuracy: {score:.4f}\")\n",
    "\n",
    "print(f\"\\nAverage Accuracy: {np.mean(cv_scores):.4f}\")\n",
    "print(f\"Standard Deviation: {np.std(cv_scores):.4f}\")"
   ]
  },
  {
   "cell_type": "code",
   "execution_count": 36,
   "id": "2a371c4f",
   "metadata": {},
   "outputs": [
    {
     "name": "stdout",
     "output_type": "stream",
     "text": [
      "Confusion Matrix:\n",
      " [[ 5  2]\n",
      " [ 4 31]]\n"
     ]
    },
    {
     "data": {
      "image/png": "[encoded data removed]",
      "text/plain": [
       "<Figure size 640x480 with 2 Axes>"
      ]
     },
     "metadata": {},
     "output_type": "display_data"
    }
   ],
   "source": [
    "from sklearn.metrics import confusion_matrix, ConfusionMatrixDisplay\n",
    "\n",
    "cm = confusion_matrix(y_test, y_pred)\n",
    "\n",
    "print(\"Confusion Matrix:\\n\", cm)\n",
    "\n",
    "disp = ConfusionMatrixDisplay(confusion_matrix=cm, display_labels=rf.classes_)\n",
    "disp.plot(cmap=plt.cm.Blues)\n",
    "plt.show()"
   ]
  }
 ],
 "metadata": {
  "kernelspec": {
   "display_name": "Python 3 (ipykernel)",
   "language": "python",
   "name": "python3"
  },
  "language_info": {
   "codemirror_mode": {
    "name": "ipython",
    "version": 3
   },
   "file_extension": ".py",
   "mimetype": "text/x-python",
   "name": "python",
   "nbconvert_exporter": "python",
   "pygments_lexer": "ipython3",
   "version": "3.11.5"
  }
 },
 "nbformat": 4,
 "nbformat_minor": 5
}
